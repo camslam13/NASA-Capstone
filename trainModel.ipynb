{
 "cells": [
  {
   "cell_type": "code",
   "execution_count": 51,
   "metadata": {},
   "outputs": [],
   "source": [
    "import os\n",
    "import tensorflow as tf\n",
    "import scipy\n",
    "from keras.preprocessing.image import ImageDataGenerator\n",
    "from keras.models import Sequential\n",
    "from keras.layers import BatchNormalization,Conv2D, MaxPooling2D, Flatten, Dense, Dropout\n"
   ]
  },
  {
   "cell_type": "code",
   "execution_count": 52,
   "metadata": {},
   "outputs": [],
   "source": [
    "# Define the image dimensions and number of classes\n",
    "img_width, img_height = 150, 150\n",
    "num_classes = 3"
   ]
  },
  {
   "cell_type": "code",
   "execution_count": 53,
   "metadata": {},
   "outputs": [],
   "source": [
    "# Create a CNN model\n",
    "model = Sequential()\n",
    "model.add(Conv2D(32, (3, 3), activation='relu', input_shape=(img_width, img_height, 3)))\n",
    "model.add(MaxPooling2D((2, 2)))\n",
    "\n",
    "model.add(Conv2D(64, (3, 3), activation='relu'))\n",
    "model.add(MaxPooling2D((2, 2)))\n",
    "\n",
    "model.add(Conv2D(128, (3, 3), activation='relu'))\n",
    "model.add(MaxPooling2D((2, 2)))\n",
    "\n",
    "model.add(Conv2D(256, (3, 3), activation='relu'))\n",
    "model.add(MaxPooling2D((2, 2)))\n",
    "\n",
    "model.add(Flatten())\n",
    "model.add(Dense(256, activation='relu'))\n",
    "model.add(Dense(num_classes, activation='softmax'))"
   ]
  },
  {
   "cell_type": "code",
   "execution_count": 54,
   "metadata": {},
   "outputs": [],
   "source": [
    "# Compile the model\n",
    "model.compile(optimizer='adam', loss='categorical_crossentropy', metrics=['accuracy'])"
   ]
  },
  {
   "cell_type": "code",
   "execution_count": 55,
   "metadata": {},
   "outputs": [
    {
     "name": "stdout",
     "output_type": "stream",
     "text": [
      "Found 258 images belonging to 3 classes.\n",
      "Found 40 images belonging to 3 classes.\n"
     ]
    }
   ],
   "source": [
    "# Define data generators for training and testing\n",
    "train_datagen = ImageDataGenerator(rescale=1./255)\n",
    "test_datagen = ImageDataGenerator(rescale=1./255)\n",
    "\n",
    "train_generator = train_datagen.flow_from_directory(\n",
    "    'C:\\\\Users\\\\surfc\\\\IdeaProjects\\\\NASA-Capstone\\\\train',\n",
    "    target_size=(img_width, img_height),\n",
    "    batch_size=32,\n",
    "    class_mode='categorical')\n",
    "\n",
    "test_generator = test_datagen.flow_from_directory(\n",
    "    'C:\\\\Users\\\\surfc\\\\IdeaProjects\\\\NASA-Capstone\\\\test',\n",
    "    target_size=(img_width, img_height),\n",
    "    batch_size=32,\n",
    "    class_mode='categorical')"
   ]
  },
  {
   "cell_type": "code",
   "execution_count": 56,
   "metadata": {},
   "outputs": [
    {
     "name": "stdout",
     "output_type": "stream",
     "text": [
      "Epoch 1/10\n",
      "9/9 [==============================] - 11s 1s/step - loss: 1.0624 - accuracy: 0.3566 - val_loss: 0.8815 - val_accuracy: 0.4750\n",
      "Epoch 2/10\n",
      "9/9 [==============================] - 8s 907ms/step - loss: 0.6858 - accuracy: 0.6667 - val_loss: 0.7195 - val_accuracy: 0.6000\n",
      "Epoch 3/10\n",
      "9/9 [==============================] - 9s 933ms/step - loss: 0.5329 - accuracy: 0.6783 - val_loss: 0.5268 - val_accuracy: 0.6250\n",
      "Epoch 4/10\n",
      "9/9 [==============================] - 9s 926ms/step - loss: 0.5143 - accuracy: 0.6899 - val_loss: 0.7084 - val_accuracy: 0.6250\n",
      "Epoch 5/10\n",
      "9/9 [==============================] - 9s 929ms/step - loss: 0.4800 - accuracy: 0.6783 - val_loss: 0.5411 - val_accuracy: 0.5500\n",
      "Epoch 6/10\n",
      "9/9 [==============================] - 9s 937ms/step - loss: 0.4721 - accuracy: 0.7209 - val_loss: 0.5231 - val_accuracy: 0.5750\n",
      "Epoch 7/10\n",
      "9/9 [==============================] - 9s 963ms/step - loss: 0.4728 - accuracy: 0.6783 - val_loss: 0.5288 - val_accuracy: 0.6500\n",
      "Epoch 8/10\n",
      "9/9 [==============================] - 9s 930ms/step - loss: 0.4620 - accuracy: 0.7171 - val_loss: 0.5500 - val_accuracy: 0.6250\n",
      "Epoch 9/10\n",
      "9/9 [==============================] - 9s 930ms/step - loss: 0.4645 - accuracy: 0.6744 - val_loss: 0.5808 - val_accuracy: 0.6250\n",
      "Epoch 10/10\n",
      "9/9 [==============================] - 9s 944ms/step - loss: 0.4446 - accuracy: 0.6822 - val_loss: 0.6764 - val_accuracy: 0.6250\n"
     ]
    },
    {
     "data": {
      "text/plain": [
       "<keras.src.callbacks.History at 0x26949428730>"
      ]
     },
     "execution_count": 56,
     "metadata": {},
     "output_type": "execute_result"
    }
   ],
   "source": [
    "# Train the model\n",
    "model.fit(train_generator, epochs=10, validation_data=test_generator)"
   ]
  },
  {
   "cell_type": "code",
   "execution_count": null,
   "metadata": {},
   "outputs": [],
   "source": [
    "# Save the trained model to an HDF5 file\n",
    "model.save('my_model.h5')"
   ]
  },
  {
   "cell_type": "code",
   "execution_count": 57,
   "metadata": {},
   "outputs": [
    {
     "name": "stdout",
     "output_type": "stream",
     "text": [
      "2/2 [==============================] - 1s 62ms/step - loss: 0.6764 - accuracy: 0.6250\n",
      "Test Accuracy: 62.50%\n"
     ]
    }
   ],
   "source": [
    "# Evaluate the model\n",
    "test_loss, test_accuracy = model.evaluate(test_generator)\n",
    "print(f\"Test Accuracy: {test_accuracy * 100:.2f}%\")"
   ]
  }
 ],
 "metadata": {
  "kernelspec": {
   "display_name": "myenv",
   "language": "python",
   "name": "python3"
  },
  "language_info": {
   "codemirror_mode": {
    "name": "ipython",
    "version": 3
   },
   "file_extension": ".py",
   "mimetype": "text/x-python",
   "name": "python",
   "nbconvert_exporter": "python",
   "pygments_lexer": "ipython3",
   "version": "3.8.18"
  }
 },
 "nbformat": 4,
 "nbformat_minor": 2
}
