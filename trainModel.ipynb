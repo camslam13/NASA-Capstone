{
 "cells": [
  {
   "cell_type": "code",
   "execution_count": 25,
   "metadata": {},
   "outputs": [],
   "source": [
    "import os\n",
    "import tensorflow as tf\n",
    "import scipy\n",
    "from keras.preprocessing.image import ImageDataGenerator\n",
    "from keras.models import Sequential\n",
    "from keras.layers import BatchNormalization,Conv2D, MaxPooling2D, Flatten, Dense, Dropout\n",
    "from PIL import Image"
   ]
  },
  {
   "cell_type": "code",
   "execution_count": 26,
   "metadata": {},
   "outputs": [],
   "source": [
    "# Define the image dimensions and number of classes\n",
    "img_width, img_height = 150, 150\n",
    "num_classes = 4"
   ]
  },
  {
   "cell_type": "code",
   "execution_count": 27,
   "metadata": {},
   "outputs": [],
   "source": [
    "# Create a CNN model\n",
    "model = Sequential()\n",
    "model.add(Conv2D(32, (3, 3), activation='relu', input_shape=(img_width, img_height, 3)))\n",
    "model.add(MaxPooling2D((2, 2)))\n",
    "\n",
    "model.add(Conv2D(64, (3, 3), activation='relu'))\n",
    "model.add(MaxPooling2D((2, 2)))\n",
    "\n",
    "model.add(Conv2D(128, (3, 3), activation='relu'))\n",
    "model.add(MaxPooling2D((2, 2)))\n",
    "\n",
    "model.add(Conv2D(256, (3, 3), activation='relu'))\n",
    "model.add(MaxPooling2D((2, 2)))\n",
    "\n",
    "model.add(Flatten())\n",
    "model.add(Dense(256, activation='relu'))\n",
    "model.add(Dense(num_classes, activation='softmax'))"
   ]
  },
  {
   "cell_type": "code",
   "execution_count": 28,
   "metadata": {},
   "outputs": [],
   "source": [
    "# Compile the model\n",
    "model.compile(optimizer='adam', loss='categorical_crossentropy', metrics=['accuracy'])"
   ]
  },
  {
   "cell_type": "code",
   "execution_count": 29,
   "metadata": {},
   "outputs": [
    {
     "name": "stdout",
     "output_type": "stream",
     "text": [
      "Found 354 images belonging to 4 classes.\n"
     ]
    },
    {
     "name": "stdout",
     "output_type": "stream",
     "text": [
      "Found 70 images belonging to 4 classes.\n"
     ]
    }
   ],
   "source": [
    "# Define data generators for training and testing\n",
    "train_datagen = ImageDataGenerator(rescale=1./255)\n",
    "test_datagen = ImageDataGenerator(rescale=1./255)\n",
    "\n",
    "train_generator = train_datagen.flow_from_directory(\n",
    "    'C:\\\\Users\\\\surfc\\\\IdeaProjects\\\\NASA-Capstone\\\\train',\n",
    "    target_size=(img_width, img_height),\n",
    "    batch_size=32,\n",
    "    class_mode='categorical')\n",
    "\n",
    "test_generator = test_datagen.flow_from_directory(\n",
    "    'C:\\\\Users\\\\surfc\\\\IdeaProjects\\\\NASA-Capstone\\\\test',\n",
    "    target_size=(img_width, img_height),\n",
    "    batch_size=32,\n",
    "    class_mode='categorical')"
   ]
  },
  {
   "cell_type": "code",
   "execution_count": 30,
   "metadata": {},
   "outputs": [
    {
     "name": "stdout",
     "output_type": "stream",
     "text": [
      "Epoch 1/15\n",
      "12/12 [==============================] - 14s 1s/step - loss: 1.2729 - accuracy: 0.4237 - val_loss: 1.1936 - val_accuracy: 0.3429\n",
      "Epoch 2/15\n",
      "12/12 [==============================] - 13s 1s/step - loss: 0.9649 - accuracy: 0.5452 - val_loss: 1.0335 - val_accuracy: 0.3714\n",
      "Epoch 3/15\n",
      "12/12 [==============================] - 12s 1s/step - loss: 0.8378 - accuracy: 0.5593 - val_loss: 0.9691 - val_accuracy: 0.5714\n",
      "Epoch 4/15\n",
      "12/12 [==============================] - 12s 1s/step - loss: 0.7956 - accuracy: 0.5904 - val_loss: 1.0026 - val_accuracy: 0.4286\n",
      "Epoch 5/15\n",
      "12/12 [==============================] - 12s 1s/step - loss: 0.7690 - accuracy: 0.6045 - val_loss: 0.9904 - val_accuracy: 0.5857\n",
      "Epoch 6/15\n",
      "12/12 [==============================] - 13s 1s/step - loss: 0.7479 - accuracy: 0.6073 - val_loss: 1.4781 - val_accuracy: 0.6000\n",
      "Epoch 7/15\n",
      "12/12 [==============================] - 12s 1s/step - loss: 0.7110 - accuracy: 0.6158 - val_loss: 0.8242 - val_accuracy: 0.6143\n",
      "Epoch 8/15\n",
      "12/12 [==============================] - 13s 1s/step - loss: 0.6281 - accuracy: 0.6864 - val_loss: 1.6494 - val_accuracy: 0.5571\n",
      "Epoch 9/15\n",
      "12/12 [==============================] - 13s 1s/step - loss: 0.5845 - accuracy: 0.7542 - val_loss: 1.1811 - val_accuracy: 0.5286\n",
      "Epoch 10/15\n",
      "12/12 [==============================] - 12s 1s/step - loss: 0.6246 - accuracy: 0.6864 - val_loss: 1.2807 - val_accuracy: 0.6286\n",
      "Epoch 11/15\n",
      "12/12 [==============================] - 13s 1s/step - loss: 0.6284 - accuracy: 0.6864 - val_loss: 1.1327 - val_accuracy: 0.5857\n",
      "Epoch 12/15\n",
      "12/12 [==============================] - 12s 1s/step - loss: 0.6207 - accuracy: 0.7034 - val_loss: 1.1209 - val_accuracy: 0.5429\n",
      "Epoch 13/15\n",
      "12/12 [==============================] - 13s 1s/step - loss: 0.8617 - accuracy: 0.6864 - val_loss: 1.3639 - val_accuracy: 0.5286\n",
      "Epoch 14/15\n",
      "12/12 [==============================] - 13s 1s/step - loss: 0.7617 - accuracy: 0.6299 - val_loss: 1.7611 - val_accuracy: 0.5857\n",
      "Epoch 15/15\n",
      "12/12 [==============================] - 12s 1s/step - loss: 0.6658 - accuracy: 0.6441 - val_loss: 1.1222 - val_accuracy: 0.6857\n"
     ]
    },
    {
     "data": {
      "text/plain": [
       "<keras.callbacks.History at 0x2518169e248>"
      ]
     },
     "execution_count": 30,
     "metadata": {},
     "output_type": "execute_result"
    }
   ],
   "source": [
    "# Train the model\n",
    "model.fit(train_generator, epochs=15, validation_data=test_generator)"
   ]
  },
  {
   "cell_type": "code",
   "execution_count": 31,
   "metadata": {},
   "outputs": [],
   "source": [
    "# Save the trained model to an HDF5 file\n",
    "model.save('my_model.h5')"
   ]
  },
  {
   "cell_type": "code",
   "execution_count": 32,
   "metadata": {},
   "outputs": [
    {
     "name": "stdout",
     "output_type": "stream",
     "text": [
      "3/3 [==============================] - 1s 266ms/step - loss: 1.1222 - accuracy: 0.6857\n",
      "Test Accuracy: 68.57%\n"
     ]
    },
    {
     "ename": "",
     "evalue": "",
     "output_type": "error",
     "traceback": [
      "\u001b[1;31mThe Kernel crashed while executing code in the current cell or a previous cell. \n",
      "\u001b[1;31mPlease review the code in the cell(s) to identify a possible cause of the failure. \n",
      "\u001b[1;31mClick <a href='https://aka.ms/vscodeJupyterKernelCrash'>here</a> for more info. \n",
      "\u001b[1;31mView Jupyter <a href='command:jupyter.viewOutput'>log</a> for further details."
     ]
    }
   ],
   "source": [
    "# Evaluate the model\n",
    "test_loss, test_accuracy = model.evaluate(test_generator)\n",
    "print(f\"Test Accuracy: {test_accuracy * 100:.2f}%\")"
   ]
  }
 ],
 "metadata": {
  "kernelspec": {
   "display_name": "myenv",
   "language": "python",
   "name": "python3"
  },
  "language_info": {
   "codemirror_mode": {
    "name": "ipython",
    "version": 3
   },
   "file_extension": ".py",
   "mimetype": "text/x-python",
   "name": "python",
   "nbconvert_exporter": "python",
   "pygments_lexer": "ipython3",
   "version": "3.7.16"
  }
 },
 "nbformat": 4,
 "nbformat_minor": 2
}
